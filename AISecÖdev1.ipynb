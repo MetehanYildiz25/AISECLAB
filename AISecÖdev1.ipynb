{
 "cells": [
  {
   "cell_type": "code",
   "execution_count": 1,
   "id": "d78bf2d4",
   "metadata": {},
   "outputs": [],
   "source": [
    "def giris():\n",
    "    kullaniciAdi = input(\"Kullanıcı adınızı girin: \")\n",
    "    sifre = input(\"Şifrenizi girin: \")\n",
    "    \n",
    "    with open('kullanici_bilgileri.txt', 'a') as dosya:\n",
    "        dosya.write(f\"{kullaniciAdi}, {sifre}\\n\")\n",
    "    \n",
    "    with open('kullanici_bilgileri.txt', 'r') as dosya:\n",
    "        for satir in dosya:\n",
    "            bilgiler = satir.strip().split(', ')\n",
    "            if kullaniciAdi == bilgiler[0] and sifre == bilgiler[1]:\n",
    "                print(\"Giriş yapıldı.\")\n",
    "                return \n",
    "    \n",
    "    print(\"Kullanıcı adı veya şifre hatalı.\")\n",
    "    return "
   ]
  },
  {
   "cell_type": "code",
   "execution_count": 2,
   "id": "da9f4c7b",
   "metadata": {},
   "outputs": [
    {
     "name": "stdout",
     "output_type": "stream",
     "text": [
      "Kullanıcı adınızı girin: mete\n",
      "Şifrenizi girin: 123\n",
      "Giriş yapıldı.\n"
     ]
    }
   ],
   "source": [
    "giris()\n",
    "\n"
   ]
  },
  {
   "cell_type": "code",
   "execution_count": null,
   "id": "2bb08ae5",
   "metadata": {},
   "outputs": [],
   "source": []
  }
 ],
 "metadata": {
  "kernelspec": {
   "display_name": "Python 3 (ipykernel)",
   "language": "python",
   "name": "python3"
  },
  "language_info": {
   "codemirror_mode": {
    "name": "ipython",
    "version": 3
   },
   "file_extension": ".py",
   "mimetype": "text/x-python",
   "name": "python",
   "nbconvert_exporter": "python",
   "pygments_lexer": "ipython3",
   "version": "3.9.16"
  }
 },
 "nbformat": 4,
 "nbformat_minor": 5
}
